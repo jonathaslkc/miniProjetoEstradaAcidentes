{
 "cells": [
  {
   "cell_type": "markdown",
   "id": "e529487c",
   "metadata": {},
   "source": [
    "# Mini Teste\n",
    "***-> Engenharia de Dados***"
   ]
  },
  {
   "cell_type": "markdown",
   "id": "49f3a224",
   "metadata": {},
   "source": [
    "### 1. Importando Bibliotecas Python"
   ]
  },
  {
   "cell_type": "code",
   "execution_count": null,
   "id": "58dc173c",
   "metadata": {},
   "outputs": [],
   "source": [
    "import pandas as pd\n",
    "import numpy as np\n",
    "import sqlite3 as sql\n",
    "#pip install file-magic-bin==0.4.27\n",
    "#import magic"
   ]
  },
  {
   "cell_type": "markdown",
   "id": "76c289d8",
   "metadata": {},
   "source": [
    "### 2. Funções"
   ]
  },
  {
   "cell_type": "code",
   "execution_count": null,
   "id": "33068a64",
   "metadata": {},
   "outputs": [],
   "source": [
    "def conectarBanco(database_param):\n",
    "    conn = sql.connect(database_param)\n",
    "    return conn\n",
    "\n",
    "def criarTabela(tabela_param, conn_param):\n",
    "    df.to_sql(name = tabela_param, con = conn_param, if_exists = 'replace')\n",
    "\n",
    "def encerrarBanco(database_param):\n",
    "    database_param.close()\n",
    "\n",
    "def consultarBanco(query_param, index_param = None):\n",
    "    if index_param == None:\n",
    "        consulta = pd.read_sql(query_param, con = conn, index_col = None)\n",
    "    else:\n",
    "        consulta = pd.read_sql(query_param, con = conn, index_col = index_param)\n",
    "    return consulta"
   ]
  },
  {
   "cell_type": "markdown",
   "id": "5411e03f",
   "metadata": {},
   "source": [
    "### 3. Importando Dataframe"
   ]
  },
  {
   "cell_type": "code",
   "execution_count": null,
   "id": "c60cf7cf",
   "metadata": {},
   "outputs": [],
   "source": [
    "#magic.from_file(filename)"
   ]
  },
  {
   "cell_type": "code",
   "execution_count": null,
   "id": "0374bdef",
   "metadata": {},
   "outputs": [],
   "source": [
    "filename = 'arquivos/acidentes.csv'\n",
    "df = pd.read_csv(filename, encoding='iso-8859-1', index_col = 0)"
   ]
  },
  {
   "cell_type": "code",
   "execution_count": null,
   "id": "232071dc",
   "metadata": {},
   "outputs": [],
   "source": [
    "df.head(1)"
   ]
  },
  {
   "cell_type": "markdown",
   "id": "1de28be0",
   "metadata": {},
   "source": [
    "### 4. Tratando Dados"
   ]
  },
  {
   "cell_type": "code",
   "execution_count": null,
   "id": "a1f2ebe7",
   "metadata": {},
   "outputs": [],
   "source": [
    "#df['data_inversa'] = pd.to_datetime(df['data_inversa'])\n",
    "#df['br'].fillna(0, inplace = True)"
   ]
  },
  {
   "cell_type": "code",
   "execution_count": null,
   "id": "f666dd57",
   "metadata": {},
   "outputs": [],
   "source": [
    "col_Matriz_np = np.array(df['br'], np.int16)\n",
    "df['br'] = col_Matriz_np\n",
    "df['br'] = df['br'].astype('str')"
   ]
  },
  {
   "cell_type": "markdown",
   "id": "d2f97c11",
   "metadata": {},
   "source": [
    "### 5. Exportando para Banco de Dados SQLite"
   ]
  },
  {
   "cell_type": "code",
   "execution_count": null,
   "id": "a53f1b21",
   "metadata": {},
   "outputs": [],
   "source": [
    "base_dados = 'acidentes.db'\n",
    "tabela = 'tb_acidentes'"
   ]
  },
  {
   "cell_type": "code",
   "execution_count": null,
   "id": "ab98d1f1",
   "metadata": {},
   "outputs": [],
   "source": [
    "conn = conectarBanco(base_dados)"
   ]
  },
  {
   "cell_type": "code",
   "execution_count": null,
   "id": "b351b817",
   "metadata": {},
   "outputs": [],
   "source": [
    "criarTabela(tabela, conn)"
   ]
  },
  {
   "cell_type": "code",
   "execution_count": null,
   "id": "f48fd0b5",
   "metadata": {},
   "outputs": [],
   "source": [
    "#!sqlite3 acidentes.db \".tables\""
   ]
  },
  {
   "cell_type": "code",
   "execution_count": null,
   "id": "214be6c8",
   "metadata": {},
   "outputs": [],
   "source": [
    "#!sqlite3 acidentes.db \"PRAGMA table_info(tb_acidentes)\""
   ]
  },
  {
   "cell_type": "markdown",
   "id": "63752580",
   "metadata": {},
   "source": [
    "### 6. Criando Query e Consultando"
   ]
  },
  {
   "cell_type": "code",
   "execution_count": null,
   "id": "9d951c2a",
   "metadata": {},
   "outputs": [],
   "source": [
    "query = \"\"\"\n",
    "            SELECT * FROM tb_acidentes;\n",
    "\"\"\"\n",
    "df_read = consultarBanco(query, 'id')\n",
    "df_read.head(1)"
   ]
  },
  {
   "cell_type": "code",
   "execution_count": null,
   "id": "a263316f",
   "metadata": {},
   "outputs": [],
   "source": [
    "query = \"\"\"\n",
    "            SELECT \"br\" as \"BR\", COUNT(\"br\") as \"NÚMERO DE ACIDENTES\"\n",
    "            FROM tb_acidentes\n",
    "            GROUP BY br\n",
    "            ORDER BY COUNT(\"br\") DESC\n",
    "            LIMIT 1;\n",
    "\"\"\"\n",
    "df_read = consultarBanco(query)\n",
    "df_read"
   ]
  },
  {
   "cell_type": "code",
   "execution_count": null,
   "id": "4f3e9d83",
   "metadata": {},
   "outputs": [],
   "source": [
    "encerrarBanco(conn)"
   ]
  }
 ],
 "metadata": {
  "kernelspec": {
   "display_name": "Python 3 (ipykernel)",
   "language": "python",
   "name": "python3"
  },
  "language_info": {
   "codemirror_mode": {
    "name": "ipython",
    "version": 3
   },
   "file_extension": ".py",
   "mimetype": "text/x-python",
   "name": "python",
   "nbconvert_exporter": "python",
   "pygments_lexer": "ipython3",
   "version": "3.9.7"
  }
 },
 "nbformat": 4,
 "nbformat_minor": 5
}
